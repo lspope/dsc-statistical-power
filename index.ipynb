{
 "cells": [
  {
   "cell_type": "markdown",
   "metadata": {},
   "source": [
    "# Statistical Power\n",
    "\n",
    "## Introduction\n",
    "\n",
    "\n",
    "You've started to investigate hypothesis testing, p-values and their use for accepting or rejecting the null hypothesis. With this, the power of a statistical test measures an experiment's ability to detect a difference, when one exists. In the case of testing whether a coin is fair, the power of our statistical test would be the probability of rejecting the null hypothesis \"this coin is fair\" when the coin was unfair. As you might assume, the power of this statistical test would thus depend on several factors including our p-value threshold for rejecting the null hypothesis, the size of our sample and the 'level of unfairness' of the coin in question.\n",
    "\n",
    "## Objectives\n",
    "\n",
    "You will be able to:\n",
    "\n",
    "- Define power in relation to p-value and the null hypothesis \n",
    "- Describe the impact of sample size and effect size on power \n",
    "- Perform power calculation using SciPy and Python \n",
    "- Demonstrate the combined effect of sample size and effect size on statistical power using simulations \n",
    "\n",
    "\n",
    "\n",
    "## The power of a statistical test\n",
    "\n",
    "The power of a statistical test is defined as the probability of rejecting the null hypothesis, given that it is indeed false. As with any probability, the power of a statistical test, therefore, ranges from 0 to 1, with 1 being a perfect test that guarantees rejecting the null hypothesis when it is indeed false. \n",
    "\n",
    "Intrinsically, this is related to $\\beta$, the probability of type II errors. When designing a statistical test, a researcher will typically determine an acceptable $\\alpha$, such as .05, the probability of type I errors. (Recall that type I errors are when the null-hypothesis is rejected when actually true.) From this given $\\alpha$ value, an optimal threshold for rejecting the null-hypothesis can be determined. That is, for a given $\\alpha$ value, you can calculate a threshold that maximizes the power of the test. For any given $\\alpha$, $power = 1 - \\beta$.\n",
    "\n",
    "\n",
    "> Note: Ideally, $\\alpha$ and $\\beta$ would both be minimized, but this is often costly, impractical or impossible depending on the scenario and required sample sizes. \n",
    "\n",
    "\n",
    "## Effect size\n",
    "\n",
    "The effect size is the magnitude of the difference you are testing between the two groups. Thus far, you've mainly been investigating the mean of a sample. For example, after flipping a coin n number of times, you've investigated using a t-test to determine whether the coin is a fair coin (p(heads)=0.5). To do this, you compared the mean of the sample to that of another sample, if comparing coins, or to a know theoretical distribution. Similarly, you might compare the mean income of a sample population to that of a census tract to determine if the populations are statistically different. In such cases, Cohen's D is typically the metric used as the effect size. \n",
    "\n",
    "Cohen's D is defined as:  $ d = \\frac{m_1 - m_2}{s}$,  where $m_1$ and $m_2$ are the respective sample means and s is the overall standard deviation of the samples. \n",
    "\n",
    "> When looking at the difference of means of two populations, Cohen's D is equal to the difference of the sample means divided by the pooled standard deviation of the samples. The pooled standard deviation of the samples is the average spread of all data points in the two samples around their group mean.  \n",
    "\n",
    "\n",
    "## Power analysis\n",
    "\n",
    "Since $\\alpha$, power, sample size, and effect size are all related quantities, you can take a look at some plots of the power of some t-tests, given varying sample sizes. This will allow you to develop a deeper understanding of how these quantities are related and what constitutes a convincing statistical test. There are three things to go into the calculation of power for a test. They are:\n",
    "\n",
    "* alpha value\n",
    "* effect size\n",
    "* sample size   \n",
    "\n",
    "A fantastic visual representation of these values' effect on one another can be found on [Kristoffer Magnusson's website](https://rpsychologist.com/d3/NHST/).\n",
    "\n",
    "Let's look at how power might change in the context of varying effect size. To start, imagine the scenario of trying to detect whether or not a coin is fair. In this scenario, the null-hypothesis would be $H_0(heads) = 0.5$ because our assumption is that we are dealing with a fair coin. From here, the power will depend on both the sample size and the effect size (that is the threshold for the null hypothesis to be rejected). For example, if the alternative hypothesis has a large margin from the null-hypothesis such as $H_a(heads) = 0.8$ or $H_a(heads) = 0.9$ (large effect size), then there is a higher chance of rejecting the null-hypothesis (power is increased). If there is a smaller margin between the null hypothesis and an alternate hypothesis, an unfair coin where $P(heads)=.6$ for example (small effect size), there is a lower chance of rejecting the null hypothesis (power is reduced).\n",
    "\n",
    "To start, you might choose an alpha value that you are willing to accept such as $\\alpha=0.05$. From there, you can observe the power of various statistical tests against various sample and effect sizes.  \n",
    "\n",
    "For example, if we wish to state the alternative hypothesis $H_a = .55$, then the effect size (using Cohen's D) would be:\n",
    "\n",
    "$ d = \\frac{m_1 - m_2}{s}$  \n",
    "$ d = \\frac{.55 - .5}{s}$\n",
    "\n",
    "Furthermore, since we are dealing with a binomial variable, the standard deviation of the sample should follow the formula $\\sqrt{n\\bullet p(1-p)}$.  \n",
    "So some potential effect size values for various scenarios might look like this:"
   ]
  },
  {
   "cell_type": "code",
   "execution_count": 1,
   "metadata": {},
   "outputs": [],
   "source": [
    "import numpy as np\n",
    "import pandas as pd"
   ]
  },
  {
   "cell_type": "code",
   "execution_count": 2,
   "metadata": {},
   "outputs": [
    {
     "name": "stdout",
     "output_type": "stream",
     "text": [
      "Hypothetical effect sizes for p(heads)=.55 vs p(heads)=.5\n"
     ]
    },
    {
     "data": {
      "text/html": [
       "<div>\n",
       "<style scoped>\n",
       "    .dataframe tbody tr th:only-of-type {\n",
       "        vertical-align: middle;\n",
       "    }\n",
       "\n",
       "    .dataframe tbody tr th {\n",
       "        vertical-align: top;\n",
       "    }\n",
       "\n",
       "    .dataframe thead th {\n",
       "        text-align: right;\n",
       "    }\n",
       "</style>\n",
       "<table border=\"1\" class=\"dataframe\">\n",
       "  <thead>\n",
       "    <tr style=\"text-align: right;\">\n",
       "      <th></th>\n",
       "      <th>Effect_Size</th>\n",
       "      <th>STD</th>\n",
       "      <th>Num_observations</th>\n",
       "    </tr>\n",
       "  </thead>\n",
       "  <tbody>\n",
       "    <tr>\n",
       "      <th>0</th>\n",
       "      <td>0.031623</td>\n",
       "      <td>1.581139</td>\n",
       "      <td>10</td>\n",
       "    </tr>\n",
       "    <tr>\n",
       "      <th>1</th>\n",
       "      <td>0.022361</td>\n",
       "      <td>2.236068</td>\n",
       "      <td>20</td>\n",
       "    </tr>\n",
       "    <tr>\n",
       "      <th>2</th>\n",
       "      <td>0.014142</td>\n",
       "      <td>3.535534</td>\n",
       "      <td>50</td>\n",
       "    </tr>\n",
       "    <tr>\n",
       "      <th>3</th>\n",
       "      <td>0.004472</td>\n",
       "      <td>11.180340</td>\n",
       "      <td>500</td>\n",
       "    </tr>\n",
       "  </tbody>\n",
       "</table>\n",
       "</div>"
      ],
      "text/plain": [
       "   Effect_Size        STD  Num_observations\n",
       "0     0.031623   1.581139                10\n",
       "1     0.022361   2.236068                20\n",
       "2     0.014142   3.535534                50\n",
       "3     0.004472  11.180340               500"
      ]
     },
     "execution_count": 2,
     "metadata": {},
     "output_type": "execute_result"
    }
   ],
   "source": [
    "m1 = .55\n",
    "m2 = .5\n",
    "p = m2\n",
    "rows = []\n",
    "for n in [10, 20, 50, 500]:\n",
    "    std = np.sqrt(n*p*(1-p))\n",
    "    d = (m1-m2)/std\n",
    "    rows.append({'Effect_Size': d, 'STD': std, 'Num_observations': n})\n",
    "print('Hypothetical effect sizes for p(heads)=.55 vs p(heads)=.5')\n",
    "pd.DataFrame(rows)"
   ]
  },
  {
   "cell_type": "markdown",
   "metadata": {},
   "source": [
    "As a general rule of thumb, all of these effect sizes are quite small. here's the same idea expanded to other alternative hypotheses:"
   ]
  },
  {
   "cell_type": "code",
   "execution_count": 3,
   "metadata": {},
   "outputs": [
    {
     "name": "stdout",
     "output_type": "stream",
     "text": [
      "Hypothetical effect sizes for various alternative hypotheses\n"
     ]
    },
    {
     "data": {
      "text/html": [
       "<div>\n",
       "<style scoped>\n",
       "    .dataframe tbody tr th:only-of-type {\n",
       "        vertical-align: middle;\n",
       "    }\n",
       "\n",
       "    .dataframe tbody tr th {\n",
       "        vertical-align: top;\n",
       "    }\n",
       "\n",
       "    .dataframe thead th {\n",
       "        text-align: right;\n",
       "    }\n",
       "</style>\n",
       "<table border=\"1\" class=\"dataframe\">\n",
       "  <thead>\n",
       "    <tr style=\"text-align: right;\">\n",
       "      <th></th>\n",
       "      <th>0.51</th>\n",
       "      <th>0.55</th>\n",
       "      <th>0.60</th>\n",
       "      <th>0.65</th>\n",
       "      <th>0.70</th>\n",
       "      <th>0.75</th>\n",
       "      <th>0.80</th>\n",
       "      <th>0.85</th>\n",
       "      <th>0.90</th>\n",
       "    </tr>\n",
       "  </thead>\n",
       "  <tbody>\n",
       "    <tr>\n",
       "      <th>10</th>\n",
       "      <td>0.006326</td>\n",
       "      <td>0.031782</td>\n",
       "      <td>0.064550</td>\n",
       "      <td>0.099449</td>\n",
       "      <td>0.138013</td>\n",
       "      <td>0.182574</td>\n",
       "      <td>0.237171</td>\n",
       "      <td>0.309965</td>\n",
       "      <td>0.421637</td>\n",
       "    </tr>\n",
       "    <tr>\n",
       "      <th>20</th>\n",
       "      <td>0.004473</td>\n",
       "      <td>0.022473</td>\n",
       "      <td>0.045644</td>\n",
       "      <td>0.070321</td>\n",
       "      <td>0.097590</td>\n",
       "      <td>0.129099</td>\n",
       "      <td>0.167705</td>\n",
       "      <td>0.219179</td>\n",
       "      <td>0.298142</td>\n",
       "    </tr>\n",
       "    <tr>\n",
       "      <th>50</th>\n",
       "      <td>0.002829</td>\n",
       "      <td>0.014213</td>\n",
       "      <td>0.028868</td>\n",
       "      <td>0.044475</td>\n",
       "      <td>0.061721</td>\n",
       "      <td>0.081650</td>\n",
       "      <td>0.106066</td>\n",
       "      <td>0.138621</td>\n",
       "      <td>0.188562</td>\n",
       "    </tr>\n",
       "    <tr>\n",
       "      <th>500</th>\n",
       "      <td>0.000895</td>\n",
       "      <td>0.004495</td>\n",
       "      <td>0.009129</td>\n",
       "      <td>0.014064</td>\n",
       "      <td>0.019518</td>\n",
       "      <td>0.025820</td>\n",
       "      <td>0.033541</td>\n",
       "      <td>0.043836</td>\n",
       "      <td>0.059628</td>\n",
       "    </tr>\n",
       "  </tbody>\n",
       "</table>\n",
       "</div>"
      ],
      "text/plain": [
       "         0.51      0.55      0.60      0.65      0.70      0.75      0.80  \\\n",
       "10   0.006326  0.031782  0.064550  0.099449  0.138013  0.182574  0.237171   \n",
       "20   0.004473  0.022473  0.045644  0.070321  0.097590  0.129099  0.167705   \n",
       "50   0.002829  0.014213  0.028868  0.044475  0.061721  0.081650  0.106066   \n",
       "500  0.000895  0.004495  0.009129  0.014064  0.019518  0.025820  0.033541   \n",
       "\n",
       "         0.85      0.90  \n",
       "10   0.309965  0.421637  \n",
       "20   0.219179  0.298142  \n",
       "50   0.138621  0.188562  \n",
       "500  0.043836  0.059628  "
      ]
     },
     "execution_count": 3,
     "metadata": {},
     "output_type": "execute_result"
    }
   ],
   "source": [
    "m2 = .5\n",
    "rows = {}\n",
    "for n in [10, 20, 50, 500]:\n",
    "    temp_dict = {}\n",
    "    for m1 in [.51, .55, .6, .65, .7, .75, .8, .85, .9]:\n",
    "        p = m1\n",
    "        std = np.sqrt(n*p*(1-p))\n",
    "        d = (m1-m2)/std\n",
    "        temp_dict[m1] = d\n",
    "    rows[n] = temp_dict\n",
    "print('Hypothetical effect sizes for various alternative hypotheses')\n",
    "df = pd.DataFrame.from_dict(rows, orient='index')\n",
    "# df.index = [10,20,50, 500]\n",
    "# df.index.name = 'Sample_Size'\n",
    "# df.columns.name = 'Alternative Hypothesis'\n",
    "df"
   ]
  },
  {
   "cell_type": "markdown",
   "metadata": {},
   "source": [
    "While a bit long winded, you can see that realistic effect sizes for this scenario could be anywhere from 0.05 (or lower) up to approximately .4.  \n",
    "\n",
    "Now that you have some parameter estimates for $\\alpha$ and the effect size, you can map subsequent relationships for the power and sample size. Again, this is because any three of these quantities (alpha, effect size, sample size and power) will determine the fourth.  \n",
    "\n",
    "As you've also seen, a common statistical test for comparing sample means is the t-test. Statsmodels has some convenient build in functions for calculating the power of a t-test and plotting power curves. Take a look:"
   ]
  },
  {
   "cell_type": "code",
   "execution_count": 5,
   "metadata": {},
   "outputs": [],
   "source": [
    "from statsmodels.stats.power import TTestIndPower, TTestPower\n",
    "import matplotlib.pyplot as plt\n",
    "import seaborn as sns\n",
    "%matplotlib inline\n",
    "sns.set_style('darkgrid') # Nice background styling on plots"
   ]
  },
  {
   "cell_type": "code",
   "execution_count": 6,
   "metadata": {},
   "outputs": [],
   "source": [
    "power_analysis = TTestIndPower()"
   ]
  },
  {
   "cell_type": "code",
   "execution_count": 7,
   "metadata": {},
   "outputs": [
    {
     "data": {
      "image/png": "[encoded data removed]",
      "text/plain": [
       "<Figure size 432x288 with 1 Axes>"
      ]
     },
     "metadata": {},
     "output_type": "display_data"
    }
   ],
   "source": [
    "power_analysis.plot_power(dep_var='nobs',\n",
    "                          nobs = np.array(range(5,1500)),\n",
    "                          effect_size=np.array([.05, .1, .2,.3,.4,.5]),\n",
    "                          alpha=0.05)\n",
    "plt.show()"
   ]
  },
  {
   "cell_type": "markdown",
   "metadata": {},
   "source": [
    "As this should demonstrate, detecting small perturbances can be quite difficult! \n",
    "\n",
    "Similarly, just because a t-test has an incredibly small p-value doesn't necessarily imply a strong statistical test. As is mentioned in the article *Using Effect Size - or Why the P Value Is Not Enough*, referenced below, using incredibly large sample sizes such as 22,000 can make even the most trivial effect size statistically significant. Realizing these reciprocal relationships and considering all 4 parameters: alpha, effect size, sample size, and power are all important when interpreting the results (such as the p-value) of a statistical test.\n",
    "\n",
    "In addition to plotting a full curve, you can also calculate specific values. Simply don't specify one of the four parameters."
   ]
  },
  {
   "cell_type": "code",
   "execution_count": 8,
   "metadata": {},
   "outputs": [
    {
     "data": {
      "text/plain": [
       "0.24175778678474177"
      ]
     },
     "execution_count": 8,
     "metadata": {},
     "output_type": "execute_result"
    }
   ],
   "source": [
    "# Calculate power\n",
    "power_analysis.solve_power(effect_size=.2, nobs1=80, alpha=.05)"
   ]
  },
  {
   "cell_type": "code",
   "execution_count": 9,
   "metadata": {},
   "outputs": [
    {
     "data": {
      "text/plain": [
       "393.4056989990335"
      ]
     },
     "execution_count": 9,
     "metadata": {},
     "output_type": "execute_result"
    }
   ],
   "source": [
    "# Calculate sample size required\n",
    "power_analysis.solve_power(effect_size=.2, alpha=.05, power=.8)"
   ]
  },
  {
   "cell_type": "code",
   "execution_count": 10,
   "metadata": {},
   "outputs": [
    {
     "data": {
      "text/plain": [
       "0.8087077886680412"
      ]
     },
     "execution_count": 10,
     "metadata": {},
     "output_type": "execute_result"
    }
   ],
   "source": [
    "# Calculate minimum effect size to satisfy desired alpha and power as well as respect sample size limitations\n",
    "power_analysis.solve_power(nobs1=25, alpha=.05, power=.8)"
   ]
  },
  {
   "cell_type": "code",
   "execution_count": 11,
   "metadata": {},
   "outputs": [
    {
     "data": {
      "text/plain": [
       "0.6613634273431555"
      ]
     },
     "execution_count": 11,
     "metadata": {},
     "output_type": "execute_result"
    }
   ],
   "source": [
    "# Calculate alpha (less traditional)\n",
    "power_analysis.solve_power(nobs1=25, effect_size=.3, power=.8)"
   ]
  },
  {
   "cell_type": "markdown",
   "metadata": {},
   "source": [
    "You can also simulate your own data to verify results:"
   ]
  },
  {
   "cell_type": "code",
   "execution_count": 12,
   "metadata": {},
   "outputs": [
    {
     "data": {
      "text/plain": [
       "{'alpha': 0.05,\n",
       " 'nobs': 50,\n",
       " 'effect_size': 0.19999999999999996,\n",
       " 'power': 0.1664}"
      ]
     },
     "execution_count": 12,
     "metadata": {},
     "output_type": "execute_result"
    }
   ],
   "source": [
    "import scipy.stats as stats\n",
    "def run_ttest_sim(p1, p2, std, nobs, alpha=0.05, n_sim=10**5):\n",
    "    \"\"\"p1 and p2 are the underlying means probabilities for 2 normal variables\n",
    "    Samples will be generated using these parameters.\"\"\"\n",
    "    # Calculate Normalized Effect Size\n",
    "    effect_size = np.abs(p1-p2)/std\n",
    "    \n",
    "    # Run a Simulation\n",
    "    # Initialize array to store results\n",
    "    p = (np.empty(n_sim))\n",
    "    p.fill(np.nan)\n",
    "\n",
    "    #  Run a for loop for range of values in n_sim\n",
    "    for s in range(n_sim):\n",
    "        control = np.random.normal(loc= p1, scale=std, size=nobs)\n",
    "        experimental = np.random.normal(loc= p2, scale=std, size=nobs)\n",
    "        t_test = stats.ttest_ind(control, experimental)\n",
    "        p[s] = t_test[1]\n",
    "    \n",
    "    num_null_rejects = np.sum(p < alpha)\n",
    "    power = num_null_rejects/n_sim\n",
    "    # Store results\n",
    "    stat_dict = {'alpha':alpha,\n",
    "                 'nobs':nobs,\n",
    "                 'effect_size':effect_size,\n",
    "                 'power': power}\n",
    "    return stat_dict\n",
    "\n",
    "run_ttest_sim(.5, .7, 1, 50)"
   ]
  },
  {
   "cell_type": "markdown",
   "metadata": {},
   "source": [
    "And going back to the full stats model implementation for verification:"
   ]
  },
  {
   "cell_type": "code",
   "execution_count": 13,
   "metadata": {},
   "outputs": [
    {
     "data": {
      "text/plain": [
       "0.1676754863454749"
      ]
     },
     "execution_count": 13,
     "metadata": {},
     "output_type": "execute_result"
    }
   ],
   "source": [
    "power_analysis.solve_power(nobs1=50, effect_size=0.19999999999999996, alpha=0.05)"
   ]
  },
  {
   "cell_type": "code",
   "execution_count": 14,
   "metadata": {},
   "outputs": [
    {
     "data": {
      "text/plain": [
       "0.049779515826212206"
      ]
     },
     "execution_count": 14,
     "metadata": {},
     "output_type": "execute_result"
    }
   ],
   "source": [
    "power_analysis.solve_power(nobs1=50, effect_size=0.19999999999999996, power=0.16719)"
   ]
  },
  {
   "cell_type": "code",
   "execution_count": 15,
   "metadata": {},
   "outputs": [
    {
     "data": {
      "text/plain": [
       "0.19959710069445308"
      ]
     },
     "execution_count": 15,
     "metadata": {},
     "output_type": "execute_result"
    }
   ],
   "source": [
    "power_analysis.solve_power(nobs1=50, power=0.16719, alpha=0.05)"
   ]
  },
  {
   "cell_type": "code",
   "execution_count": 16,
   "metadata": {},
   "outputs": [
    {
     "data": {
      "text/plain": [
       "49.80313313853301"
      ]
     },
     "execution_count": 16,
     "metadata": {},
     "output_type": "execute_result"
    }
   ],
   "source": [
    "power_analysis.solve_power(power=0.16719, effect_size=0.19999999999999996, alpha=0.05)"
   ]
  },
  {
   "cell_type": "markdown",
   "metadata": {},
   "source": [
    "## Additional Resources\n",
    "\n",
    "* [Statsmodels documentation](http://www.statsmodels.org/dev/generated/statsmodels.stats.power.TTestIndPower.html)\n",
    "* [Using Effect Size—or Why the P Value Is Not Enough](https://www.ncbi.nlm.nih.gov/pmc/articles/PMC3444174/)\n",
    "* [Understanding Statistical Power and Significance Testing - an interactive visualization](https://rpsychologist.com/d3/NHST/)"
   ]
  },
  {
   "cell_type": "markdown",
   "metadata": {},
   "source": [
    "## Summary\n",
    "\n",
    "In this lesson, you learned about the idea of \"statistical power\" and how sample size, alpha, and effect size impact the power of an experiment. Remember, the power of a statistical test is the probability of rejecting the null hypothesis when it is indeed false."
   ]
  }
 ],
 "metadata": {
  "kernelspec": {
   "display_name": "Python 3",
   "language": "python",
   "name": "python3"
  },
  "language_info": {
   "codemirror_mode": {
    "name": "ipython",
    "version": 3
   },
   "file_extension": ".py",
   "mimetype": "text/x-python",
   "name": "python",
   "nbconvert_exporter": "python",
   "pygments_lexer": "ipython3",
   "version": "3.6.9"
  }
 },
 "nbformat": 4,
 "nbformat_minor": 2
}
